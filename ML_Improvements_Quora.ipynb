{
 "cells": [
  {
   "cell_type": "markdown",
   "metadata": {},
   "source": [
    "## IMPROVEMENT ON THE EXISTING ML SOLUTIONS:-\n",
    "\n",
    "1) We would featurize the two question pairs with the help of simple TFIDF vectorizer and would train Logistic Regression and Linear SVM to separate out the duplicate and non-duplicate pairs.\n",
    "\n",
    "2) We would perform hyperparameter tuning of XgBoost models using RandomsearchCV with TF-IDF W2V mean vector to reduce the log loss."
   ]
  },
  {
   "cell_type": "markdown",
   "metadata": {},
   "source": [
    "## IMPORTING THE LIBRARIES"
   ]
  },
  {
   "cell_type": "code",
   "execution_count": 1,
   "metadata": {},
   "outputs": [],
   "source": [
    "import pandas as pd\n",
    "import numpy as np\n",
    "import matplotlib.pyplot as plt\n",
    "import seaborn as sns\n",
    "import os\n",
    "import warnings\n",
    "warnings.filterwarnings(\"ignore\")\n",
    "from sklearn.feature_extraction.text import TfidfVectorizer\n",
    "from sklearn.metrics import log_loss, accuracy_score\n",
    "from sklearn.svm import SVC\n",
    "from sklearn.linear_model import LogisticRegression, SGDClassifier\n",
    "import xgboost as xgb\n",
    "from tqdm import tqdm\n",
    "from nltk.corpus import stopwords\n",
    "from nltk.stem import PorterStemmer\n",
    "from bs4 import BeautifulSoup\n",
    "import re\n",
    "from sklearn.model_selection import train_test_split\n",
    "from sklearn.model_selection import RandomizedSearchCV, GridSearchCV\n",
    "from sklearn.metrics import confusion_matrix\n",
    "from sklearn.calibration import CalibratedClassifierCV"
   ]
  },
  {
   "cell_type": "markdown",
   "metadata": {},
   "source": [
    "## IMPORTING THE TRAINING DATA"
   ]
  },
  {
   "cell_type": "code",
   "execution_count": 2,
   "metadata": {},
   "outputs": [
    {
     "data": {
      "text/html": [
       "<div>\n",
       "<style scoped>\n",
       "    .dataframe tbody tr th:only-of-type {\n",
       "        vertical-align: middle;\n",
       "    }\n",
       "\n",
       "    .dataframe tbody tr th {\n",
       "        vertical-align: top;\n",
       "    }\n",
       "\n",
       "    .dataframe thead th {\n",
       "        text-align: right;\n",
       "    }\n",
       "</style>\n",
       "<table border=\"1\" class=\"dataframe\">\n",
       "  <thead>\n",
       "    <tr style=\"text-align: right;\">\n",
       "      <th></th>\n",
       "      <th>id</th>\n",
       "      <th>qid1</th>\n",
       "      <th>qid2</th>\n",
       "      <th>question1</th>\n",
       "      <th>question2</th>\n",
       "      <th>is_duplicate</th>\n",
       "    </tr>\n",
       "  </thead>\n",
       "  <tbody>\n",
       "    <tr>\n",
       "      <th>0</th>\n",
       "      <td>0</td>\n",
       "      <td>1</td>\n",
       "      <td>2</td>\n",
       "      <td>What is the step by step guide to invest in sh...</td>\n",
       "      <td>What is the step by step guide to invest in sh...</td>\n",
       "      <td>0</td>\n",
       "    </tr>\n",
       "    <tr>\n",
       "      <th>1</th>\n",
       "      <td>1</td>\n",
       "      <td>3</td>\n",
       "      <td>4</td>\n",
       "      <td>What is the story of Kohinoor (Koh-i-Noor) Dia...</td>\n",
       "      <td>What would happen if the Indian government sto...</td>\n",
       "      <td>0</td>\n",
       "    </tr>\n",
       "    <tr>\n",
       "      <th>2</th>\n",
       "      <td>2</td>\n",
       "      <td>5</td>\n",
       "      <td>6</td>\n",
       "      <td>How can I increase the speed of my internet co...</td>\n",
       "      <td>How can Internet speed be increased by hacking...</td>\n",
       "      <td>0</td>\n",
       "    </tr>\n",
       "    <tr>\n",
       "      <th>3</th>\n",
       "      <td>3</td>\n",
       "      <td>7</td>\n",
       "      <td>8</td>\n",
       "      <td>Why am I mentally very lonely? How can I solve...</td>\n",
       "      <td>Find the remainder when [math]23^{24}[/math] i...</td>\n",
       "      <td>0</td>\n",
       "    </tr>\n",
       "    <tr>\n",
       "      <th>4</th>\n",
       "      <td>4</td>\n",
       "      <td>9</td>\n",
       "      <td>10</td>\n",
       "      <td>Which one dissolve in water quikly sugar, salt...</td>\n",
       "      <td>Which fish would survive in salt water?</td>\n",
       "      <td>0</td>\n",
       "    </tr>\n",
       "  </tbody>\n",
       "</table>\n",
       "</div>"
      ],
      "text/plain": [
       "   id  qid1  qid2                                          question1  \\\n",
       "0   0     1     2  What is the step by step guide to invest in sh...   \n",
       "1   1     3     4  What is the story of Kohinoor (Koh-i-Noor) Dia...   \n",
       "2   2     5     6  How can I increase the speed of my internet co...   \n",
       "3   3     7     8  Why am I mentally very lonely? How can I solve...   \n",
       "4   4     9    10  Which one dissolve in water quikly sugar, salt...   \n",
       "\n",
       "                                           question2  is_duplicate  \n",
       "0  What is the step by step guide to invest in sh...             0  \n",
       "1  What would happen if the Indian government sto...             0  \n",
       "2  How can Internet speed be increased by hacking...             0  \n",
       "3  Find the remainder when [math]23^{24}[/math] i...             0  \n",
       "4            Which fish would survive in salt water?             0  "
      ]
     },
     "execution_count": 2,
     "metadata": {},
     "output_type": "execute_result"
    }
   ],
   "source": [
    "df_train = pd.read_csv(\"train.csv\")\n",
    "\n",
    "df_train.head()"
   ]
  },
  {
   "cell_type": "code",
   "execution_count": 3,
   "metadata": {},
   "outputs": [],
   "source": [
    "df_train['question1'] = df_train['question1'].apply(lambda x: str(x))\n",
    "df_train['question2'] = df_train['question2'].apply(lambda x: str(x))"
   ]
  },
  {
   "cell_type": "markdown",
   "metadata": {},
   "source": [
    "## PREPROCESSING THE QUESTIONS :- REMOVING (,),#,?...."
   ]
  },
  {
   "cell_type": "code",
   "execution_count": 4,
   "metadata": {},
   "outputs": [],
   "source": [
    "STOP_WORDS = stopwords.words(\"english\")\n",
    "\n",
    "def preprocess(x):\n",
    "    x = str(x).lower()\n",
    "    x = x.replace(\",000,000\", \"m\").replace(\",000\", \"k\").replace(\"′\", \"'\").replace(\"’\", \"'\")\\\n",
    "                           .replace(\"won't\", \"will not\").replace(\"cannot\", \"can not\").replace(\"can't\", \"can not\")\\\n",
    "                           .replace(\"n't\", \" not\").replace(\"what's\", \"what is\").replace(\"it's\", \"it is\")\\\n",
    "                           .replace(\"'ve\", \" have\").replace(\"i'm\", \"i am\").replace(\"'re\", \" are\")\\\n",
    "                           .replace(\"he's\", \"he is\").replace(\"she's\", \"she is\").replace(\"'s\", \" own\")\\\n",
    "                           .replace(\"%\", \" percent \").replace(\"₹\", \" rupee \").replace(\"$\", \" dollar \")\\\n",
    "                           .replace(\"€\", \" euro \").replace(\"'ll\", \" will\").replace('\\\\r',' ').replace('\\\\t',' ')\\\n",
    "                           .replace('\\\\\"',' ').replace('\\\\n',' ')\n",
    "    x = re.sub(r\"([0-9]+)000000\", r\"\\1m\", x)\n",
    "    x = re.sub(r\"([0-9]+)000\", r\"\\1k\", x)\n",
    "    x = re.sub('[0-9]+',' ', x)\n",
    "    x = re.sub('[^A-Za-z]+',' ', x)\n",
    "    x = re.sub('[!\"#$%&\\'()*+,-./:;<=>@[\\\\]^_`{|}~]+',' ', x)\n",
    "    x = ' '.join(e for e in x.split() if e.lower() not in STOP_WORDS)\n",
    "    \n",
    "    #porter = PorterStemmer()\n",
    "    #pattern = re.compile('\\W')\n",
    "    \n",
    "    #if type(x) == type(''):\n",
    "    #    x = re.sub(pattern, ' ', x)\n",
    "    \n",
    "    \n",
    "    #if type(x) == type(''):\n",
    "    #    x = porter.stem(x)\n",
    "    #    example1 = BeautifulSoup(x)\n",
    "    #    x = example1.get_text()\n",
    "        \n",
    "    return x    "
   ]
  },
  {
   "cell_type": "code",
   "execution_count": 5,
   "metadata": {},
   "outputs": [],
   "source": [
    "df_train[\"question1\"] = df_train[\"question1\"].fillna(\"\").apply(preprocess)\n",
    "df_train[\"question2\"] = df_train[\"question2\"].fillna(\"\").apply(preprocess)"
   ]
  },
  {
   "cell_type": "markdown",
   "metadata": {},
   "source": [
    "## TRAIN-TEST SPLIT (70:30)"
   ]
  },
  {
   "cell_type": "code",
   "execution_count": 6,
   "metadata": {},
   "outputs": [],
   "source": [
    "X = df_train.drop(\"is_duplicate\",axis=1)\n",
    "Y = df_train.iloc[:,-1]\n",
    "X_train, X_test, Y_train, Y_test = train_test_split(X,Y, test_size = 0.30, stratify = Y, random_state = 42)\n",
    "X_tr,X_CV,Y_tr,Y_CV = train_test_split(X_train,Y_train, test_size = 0.30, stratify = Y_train, random_state = 42)"
   ]
  },
  {
   "cell_type": "code",
   "execution_count": 7,
   "metadata": {},
   "outputs": [
    {
     "data": {
      "text/html": [
       "<div>\n",
       "<style scoped>\n",
       "    .dataframe tbody tr th:only-of-type {\n",
       "        vertical-align: middle;\n",
       "    }\n",
       "\n",
       "    .dataframe tbody tr th {\n",
       "        vertical-align: top;\n",
       "    }\n",
       "\n",
       "    .dataframe thead th {\n",
       "        text-align: right;\n",
       "    }\n",
       "</style>\n",
       "<table border=\"1\" class=\"dataframe\">\n",
       "  <thead>\n",
       "    <tr style=\"text-align: right;\">\n",
       "      <th></th>\n",
       "      <th>id</th>\n",
       "      <th>qid1</th>\n",
       "      <th>qid2</th>\n",
       "      <th>question1</th>\n",
       "      <th>question2</th>\n",
       "    </tr>\n",
       "  </thead>\n",
       "  <tbody>\n",
       "    <tr>\n",
       "      <th>227100</th>\n",
       "      <td>227100</td>\n",
       "      <td>335860</td>\n",
       "      <td>335861</td>\n",
       "      <td>contribution mahatma gandhi make india free</td>\n",
       "      <td>blue light blocking glasses help eye strain</td>\n",
       "    </tr>\n",
       "    <tr>\n",
       "      <th>74788</th>\n",
       "      <td>74788</td>\n",
       "      <td>128104</td>\n",
       "      <td>128105</td>\n",
       "      <td>best driving school kolkata</td>\n",
       "      <td>best driving school chandigarh</td>\n",
       "    </tr>\n",
       "    <tr>\n",
       "      <th>318288</th>\n",
       "      <td>318288</td>\n",
       "      <td>207125</td>\n",
       "      <td>370865</td>\n",
       "      <td>interesting products innovations post properti...</td>\n",
       "      <td>interesting products innovations boston proper...</td>\n",
       "    </tr>\n",
       "    <tr>\n",
       "      <th>321353</th>\n",
       "      <td>321353</td>\n",
       "      <td>447046</td>\n",
       "      <td>447047</td>\n",
       "      <td>shoot nuke mid air missile defense system</td>\n",
       "      <td>romania anti missile defense system threat rus...</td>\n",
       "    </tr>\n",
       "    <tr>\n",
       "      <th>203440</th>\n",
       "      <td>203440</td>\n",
       "      <td>203506</td>\n",
       "      <td>266578</td>\n",
       "      <td>increase fps frames per second dota</td>\n",
       "      <td>human eye fps frames per second something rota...</td>\n",
       "    </tr>\n",
       "  </tbody>\n",
       "</table>\n",
       "</div>"
      ],
      "text/plain": [
       "            id    qid1    qid2  \\\n",
       "227100  227100  335860  335861   \n",
       "74788    74788  128104  128105   \n",
       "318288  318288  207125  370865   \n",
       "321353  321353  447046  447047   \n",
       "203440  203440  203506  266578   \n",
       "\n",
       "                                                question1  \\\n",
       "227100        contribution mahatma gandhi make india free   \n",
       "74788                         best driving school kolkata   \n",
       "318288  interesting products innovations post properti...   \n",
       "321353          shoot nuke mid air missile defense system   \n",
       "203440                increase fps frames per second dota   \n",
       "\n",
       "                                                question2  \n",
       "227100        blue light blocking glasses help eye strain  \n",
       "74788                      best driving school chandigarh  \n",
       "318288  interesting products innovations boston proper...  \n",
       "321353  romania anti missile defense system threat rus...  \n",
       "203440  human eye fps frames per second something rota...  "
      ]
     },
     "execution_count": 7,
     "metadata": {},
     "output_type": "execute_result"
    }
   ],
   "source": [
    "X_tr.head()"
   ]
  },
  {
   "cell_type": "code",
   "execution_count": 8,
   "metadata": {},
   "outputs": [
    {
     "data": {
      "text/html": [
       "<div>\n",
       "<style scoped>\n",
       "    .dataframe tbody tr th:only-of-type {\n",
       "        vertical-align: middle;\n",
       "    }\n",
       "\n",
       "    .dataframe tbody tr th {\n",
       "        vertical-align: top;\n",
       "    }\n",
       "\n",
       "    .dataframe thead th {\n",
       "        text-align: right;\n",
       "    }\n",
       "</style>\n",
       "<table border=\"1\" class=\"dataframe\">\n",
       "  <thead>\n",
       "    <tr style=\"text-align: right;\">\n",
       "      <th></th>\n",
       "      <th>id</th>\n",
       "      <th>qid1</th>\n",
       "      <th>qid2</th>\n",
       "      <th>question1</th>\n",
       "      <th>question2</th>\n",
       "    </tr>\n",
       "  </thead>\n",
       "  <tbody>\n",
       "    <tr>\n",
       "      <th>380200</th>\n",
       "      <td>380200</td>\n",
       "      <td>398338</td>\n",
       "      <td>511809</td>\n",
       "      <td>appropriate meryl streep use golden globes spe...</td>\n",
       "      <td>meryl streep using position attack president</td>\n",
       "    </tr>\n",
       "    <tr>\n",
       "      <th>345456</th>\n",
       "      <td>345456</td>\n",
       "      <td>120456</td>\n",
       "      <td>473749</td>\n",
       "      <td>forgot screen unlock pin code htc unlock</td>\n",
       "      <td>unlock htc</td>\n",
       "    </tr>\n",
       "    <tr>\n",
       "      <th>219262</th>\n",
       "      <td>219262</td>\n",
       "      <td>326090</td>\n",
       "      <td>326091</td>\n",
       "      <td>book want read</td>\n",
       "      <td>choose books read</td>\n",
       "    </tr>\n",
       "    <tr>\n",
       "      <th>231835</th>\n",
       "      <td>231835</td>\n",
       "      <td>341728</td>\n",
       "      <td>341729</td>\n",
       "      <td>know true</td>\n",
       "      <td>know true</td>\n",
       "    </tr>\n",
       "    <tr>\n",
       "      <th>316926</th>\n",
       "      <td>316926</td>\n",
       "      <td>314306</td>\n",
       "      <td>442046</td>\n",
       "      <td>seen bald men treated equally others west indi...</td>\n",
       "      <td>indian guys think beautiful bald girls</td>\n",
       "    </tr>\n",
       "  </tbody>\n",
       "</table>\n",
       "</div>"
      ],
      "text/plain": [
       "            id    qid1    qid2  \\\n",
       "380200  380200  398338  511809   \n",
       "345456  345456  120456  473749   \n",
       "219262  219262  326090  326091   \n",
       "231835  231835  341728  341729   \n",
       "316926  316926  314306  442046   \n",
       "\n",
       "                                                question1  \\\n",
       "380200  appropriate meryl streep use golden globes spe...   \n",
       "345456           forgot screen unlock pin code htc unlock   \n",
       "219262                                     book want read   \n",
       "231835                                          know true   \n",
       "316926  seen bald men treated equally others west indi...   \n",
       "\n",
       "                                           question2  \n",
       "380200  meryl streep using position attack president  \n",
       "345456                                    unlock htc  \n",
       "219262                             choose books read  \n",
       "231835                                     know true  \n",
       "316926        indian guys think beautiful bald girls  "
      ]
     },
     "execution_count": 8,
     "metadata": {},
     "output_type": "execute_result"
    }
   ],
   "source": [
    "X_test.head()"
   ]
  },
  {
   "cell_type": "code",
   "execution_count": 9,
   "metadata": {},
   "outputs": [
    {
     "name": "stdout",
     "output_type": "stream",
     "text": [
      "(198102, 5) (84901, 5) (121287, 5)\n"
     ]
    }
   ],
   "source": [
    "print(X_tr.shape, X_CV.shape,  X_test.shape)"
   ]
  },
  {
   "cell_type": "markdown",
   "metadata": {},
   "source": [
    "## VECTORIZING THE QUESTIONS INTO TFIDF"
   ]
  },
  {
   "cell_type": "code",
   "execution_count": 10,
   "metadata": {},
   "outputs": [],
   "source": [
    "train_question1 = list(X_tr['question1'])\n",
    "train_question2 = list(X_tr['question2'])\n",
    "val_question1 = list(X_CV['question1'])\n",
    "val_question2 = list(X_CV['question2'])\n",
    "test_question1 = list(X_test['question1'])\n",
    "test_question2 = list(X_test['question2'])\n",
    "\n",
    "tfidf_vec = TfidfVectorizer(min_df = 10, max_features = 15000)\n",
    "tr_matq1 = tfidf_vec.fit_transform(train_question1)\n",
    "te_matq1 = tfidf_vec.transform(test_question1)\n",
    "val_matq1 = tfidf_vec.transform(val_question1)\n",
    "tr_matq2 = tfidf_vec.fit_transform(train_question2)\n",
    "te_matq2 = tfidf_vec.transform(test_question2)\n",
    "val_matq2 = tfidf_vec.transform(val_question2)"
   ]
  },
  {
   "cell_type": "code",
   "execution_count": 11,
   "metadata": {},
   "outputs": [
    {
     "name": "stdout",
     "output_type": "stream",
     "text": [
      "(198102, 9619) (84901, 9619) (121287, 9619)\n"
     ]
    }
   ],
   "source": [
    "print(tr_matq1.shape, val_matq1.shape, te_matq1.shape)"
   ]
  },
  {
   "cell_type": "code",
   "execution_count": 12,
   "metadata": {},
   "outputs": [
    {
     "name": "stdout",
     "output_type": "stream",
     "text": [
      "(198102, 9383) (84901, 9383) (121287, 9383)\n"
     ]
    }
   ],
   "source": [
    "print(tr_matq2.shape, val_matq2.shape, te_matq2.shape)"
   ]
  },
  {
   "cell_type": "markdown",
   "metadata": {},
   "source": [
    "## IMPORTING THE BASIC AND ADVANCED FEATURES"
   ]
  },
  {
   "cell_type": "markdown",
   "metadata": {},
   "source": [
    "#### BASIC FEATURES"
   ]
  },
  {
   "cell_type": "code",
   "execution_count": 13,
   "metadata": {},
   "outputs": [],
   "source": [
    "if os.path.isfile('df_fe_without_preprocessing_train.csv'):\n",
    "    basic_features = pd.read_csv(\"df_fe_without_preprocessing_train.csv\",encoding='latin-1')\n",
    "else:\n",
    "    print(\"download df_fe_without_preprocessing_train.csv from drive or run previous notebook\")"
   ]
  },
  {
   "cell_type": "code",
   "execution_count": 14,
   "metadata": {},
   "outputs": [
    {
     "data": {
      "text/plain": [
       "(404290, 17)"
      ]
     },
     "execution_count": 14,
     "metadata": {},
     "output_type": "execute_result"
    }
   ],
   "source": [
    "basic_features.shape"
   ]
  },
  {
   "cell_type": "markdown",
   "metadata": {},
   "source": [
    "#### ADVANCED FEATURES"
   ]
  },
  {
   "cell_type": "code",
   "execution_count": 15,
   "metadata": {},
   "outputs": [],
   "source": [
    "if os.path.isfile('nlp_features_train.csv'):\n",
    "    advanced_features = pd.read_csv(\"nlp_features_train.csv\",encoding='latin-1')\n",
    "else:\n",
    "    print(\"download nlp_features_train.csv from drive or run previous notebook\")"
   ]
  },
  {
   "cell_type": "code",
   "execution_count": 16,
   "metadata": {},
   "outputs": [
    {
     "data": {
      "text/plain": [
       "(404290, 21)"
      ]
     },
     "execution_count": 16,
     "metadata": {},
     "output_type": "execute_result"
    }
   ],
   "source": [
    "advanced_features.shape"
   ]
  },
  {
   "cell_type": "markdown",
   "metadata": {},
   "source": [
    "## SCALING THE BASIC AND ADVANCED FEATURES USING MINMAXSCALER"
   ]
  },
  {
   "cell_type": "code",
   "execution_count": 17,
   "metadata": {},
   "outputs": [],
   "source": [
    "basic_features.drop(['id','qid1','qid2','question1','question2','is_duplicate'], axis=1, inplace=True)\n",
    "advanced_features.drop(['id','qid1','qid2','question1','question2','is_duplicate'], axis=1, inplace=True)"
   ]
  },
  {
   "cell_type": "code",
   "execution_count": 18,
   "metadata": {},
   "outputs": [],
   "source": [
    "from sklearn.preprocessing import MinMaxScaler\n",
    "\n",
    "minmax_sc = MinMaxScaler()\n",
    "\n",
    "basic_features_scaled = minmax_sc.fit_transform(basic_features)\n",
    "advanced_features_scaled = minmax_sc.fit_transform(advanced_features)"
   ]
  },
  {
   "cell_type": "markdown",
   "metadata": {},
   "source": [
    "## GETTING THE TRAIN AND TEST SETS OF THE BASIC AND ADVANCED FEATURES"
   ]
  },
  {
   "cell_type": "code",
   "execution_count": 19,
   "metadata": {},
   "outputs": [],
   "source": [
    "tr_indices = list(X_tr.index.values)\n",
    "val_indices = list(X_CV.index.values)\n",
    "te_indices = list(X_test.index.values)"
   ]
  },
  {
   "cell_type": "code",
   "execution_count": 20,
   "metadata": {},
   "outputs": [],
   "source": [
    "basic_feat_train = basic_features.iloc[tr_indices,:]\n",
    "advanced_feat_train = advanced_features.iloc[tr_indices,:]\n",
    "basic_feat_val = basic_features.iloc[val_indices,:]\n",
    "advanced_feat_val = advanced_features.iloc[val_indices,:]\n",
    "basic_feat_test = basic_features.iloc[te_indices,:]\n",
    "advanced_feat_test = advanced_features.iloc[te_indices,:]"
   ]
  },
  {
   "cell_type": "code",
   "execution_count": 21,
   "metadata": {},
   "outputs": [
    {
     "data": {
      "text/html": [
       "<div>\n",
       "<style scoped>\n",
       "    .dataframe tbody tr th:only-of-type {\n",
       "        vertical-align: middle;\n",
       "    }\n",
       "\n",
       "    .dataframe tbody tr th {\n",
       "        vertical-align: top;\n",
       "    }\n",
       "\n",
       "    .dataframe thead th {\n",
       "        text-align: right;\n",
       "    }\n",
       "</style>\n",
       "<table border=\"1\" class=\"dataframe\">\n",
       "  <thead>\n",
       "    <tr style=\"text-align: right;\">\n",
       "      <th></th>\n",
       "      <th>freq_qid1</th>\n",
       "      <th>freq_qid2</th>\n",
       "      <th>q1len</th>\n",
       "      <th>q2len</th>\n",
       "      <th>q1_n_words</th>\n",
       "      <th>q2_n_words</th>\n",
       "      <th>word_Common</th>\n",
       "      <th>word_Total</th>\n",
       "      <th>word_share</th>\n",
       "      <th>freq_q1+q2</th>\n",
       "      <th>freq_q1-q2</th>\n",
       "    </tr>\n",
       "  </thead>\n",
       "  <tbody>\n",
       "    <tr>\n",
       "      <th>227100</th>\n",
       "      <td>1</td>\n",
       "      <td>1</td>\n",
       "      <td>63</td>\n",
       "      <td>54</td>\n",
       "      <td>11</td>\n",
       "      <td>9</td>\n",
       "      <td>0.0</td>\n",
       "      <td>20.0</td>\n",
       "      <td>0.000000</td>\n",
       "      <td>2</td>\n",
       "      <td>0</td>\n",
       "    </tr>\n",
       "    <tr>\n",
       "      <th>74788</th>\n",
       "      <td>2</td>\n",
       "      <td>1</td>\n",
       "      <td>44</td>\n",
       "      <td>47</td>\n",
       "      <td>8</td>\n",
       "      <td>8</td>\n",
       "      <td>7.0</td>\n",
       "      <td>16.0</td>\n",
       "      <td>0.437500</td>\n",
       "      <td>3</td>\n",
       "      <td>1</td>\n",
       "    </tr>\n",
       "    <tr>\n",
       "      <th>318288</th>\n",
       "      <td>2</td>\n",
       "      <td>2</td>\n",
       "      <td>103</td>\n",
       "      <td>105</td>\n",
       "      <td>17</td>\n",
       "      <td>17</td>\n",
       "      <td>16.0</td>\n",
       "      <td>34.0</td>\n",
       "      <td>0.470588</td>\n",
       "      <td>4</td>\n",
       "      <td>0</td>\n",
       "    </tr>\n",
       "    <tr>\n",
       "      <th>321353</th>\n",
       "      <td>1</td>\n",
       "      <td>1</td>\n",
       "      <td>62</td>\n",
       "      <td>120</td>\n",
       "      <td>13</td>\n",
       "      <td>22</td>\n",
       "      <td>2.0</td>\n",
       "      <td>32.0</td>\n",
       "      <td>0.062500</td>\n",
       "      <td>2</td>\n",
       "      <td>0</td>\n",
       "    </tr>\n",
       "    <tr>\n",
       "      <th>203440</th>\n",
       "      <td>2</td>\n",
       "      <td>1</td>\n",
       "      <td>53</td>\n",
       "      <td>163</td>\n",
       "      <td>11</td>\n",
       "      <td>30</td>\n",
       "      <td>4.0</td>\n",
       "      <td>36.0</td>\n",
       "      <td>0.111111</td>\n",
       "      <td>3</td>\n",
       "      <td>1</td>\n",
       "    </tr>\n",
       "  </tbody>\n",
       "</table>\n",
       "</div>"
      ],
      "text/plain": [
       "        freq_qid1  freq_qid2  q1len  q2len  q1_n_words  q2_n_words  \\\n",
       "227100          1          1     63     54          11           9   \n",
       "74788           2          1     44     47           8           8   \n",
       "318288          2          2    103    105          17          17   \n",
       "321353          1          1     62    120          13          22   \n",
       "203440          2          1     53    163          11          30   \n",
       "\n",
       "        word_Common  word_Total  word_share  freq_q1+q2  freq_q1-q2  \n",
       "227100          0.0        20.0    0.000000           2           0  \n",
       "74788           7.0        16.0    0.437500           3           1  \n",
       "318288         16.0        34.0    0.470588           4           0  \n",
       "321353          2.0        32.0    0.062500           2           0  \n",
       "203440          4.0        36.0    0.111111           3           1  "
      ]
     },
     "execution_count": 21,
     "metadata": {},
     "output_type": "execute_result"
    }
   ],
   "source": [
    "basic_feat_train.head()"
   ]
  },
  {
   "cell_type": "code",
   "execution_count": 22,
   "metadata": {
    "scrolled": true
   },
   "outputs": [
    {
     "data": {
      "text/html": [
       "<div>\n",
       "<style scoped>\n",
       "    .dataframe tbody tr th:only-of-type {\n",
       "        vertical-align: middle;\n",
       "    }\n",
       "\n",
       "    .dataframe tbody tr th {\n",
       "        vertical-align: top;\n",
       "    }\n",
       "\n",
       "    .dataframe thead th {\n",
       "        text-align: right;\n",
       "    }\n",
       "</style>\n",
       "<table border=\"1\" class=\"dataframe\">\n",
       "  <thead>\n",
       "    <tr style=\"text-align: right;\">\n",
       "      <th></th>\n",
       "      <th>cwc_min</th>\n",
       "      <th>cwc_max</th>\n",
       "      <th>csc_min</th>\n",
       "      <th>csc_max</th>\n",
       "      <th>ctc_min</th>\n",
       "      <th>ctc_max</th>\n",
       "      <th>last_word_eq</th>\n",
       "      <th>first_word_eq</th>\n",
       "      <th>abs_len_diff</th>\n",
       "      <th>mean_len</th>\n",
       "      <th>token_set_ratio</th>\n",
       "      <th>token_sort_ratio</th>\n",
       "      <th>fuzz_ratio</th>\n",
       "      <th>fuzz_partial_ratio</th>\n",
       "      <th>longest_substr_ratio</th>\n",
       "    </tr>\n",
       "  </thead>\n",
       "  <tbody>\n",
       "    <tr>\n",
       "      <th>227100</th>\n",
       "      <td>0.000000</td>\n",
       "      <td>0.000000</td>\n",
       "      <td>0.000000</td>\n",
       "      <td>0.000000</td>\n",
       "      <td>0.000000</td>\n",
       "      <td>0.000000</td>\n",
       "      <td>0.0</td>\n",
       "      <td>0.0</td>\n",
       "      <td>2.0</td>\n",
       "      <td>10.0</td>\n",
       "      <td>38</td>\n",
       "      <td>38</td>\n",
       "      <td>33</td>\n",
       "      <td>37</td>\n",
       "      <td>0.036364</td>\n",
       "    </tr>\n",
       "    <tr>\n",
       "      <th>74788</th>\n",
       "      <td>0.749981</td>\n",
       "      <td>0.749981</td>\n",
       "      <td>0.999975</td>\n",
       "      <td>0.999975</td>\n",
       "      <td>0.874989</td>\n",
       "      <td>0.874989</td>\n",
       "      <td>0.0</td>\n",
       "      <td>1.0</td>\n",
       "      <td>0.0</td>\n",
       "      <td>8.0</td>\n",
       "      <td>90</td>\n",
       "      <td>79</td>\n",
       "      <td>85</td>\n",
       "      <td>86</td>\n",
       "      <td>0.800000</td>\n",
       "    </tr>\n",
       "    <tr>\n",
       "      <th>318288</th>\n",
       "      <td>0.857131</td>\n",
       "      <td>0.857131</td>\n",
       "      <td>0.999990</td>\n",
       "      <td>0.999990</td>\n",
       "      <td>0.941171</td>\n",
       "      <td>0.941171</td>\n",
       "      <td>1.0</td>\n",
       "      <td>1.0</td>\n",
       "      <td>0.0</td>\n",
       "      <td>17.0</td>\n",
       "      <td>98</td>\n",
       "      <td>94</td>\n",
       "      <td>98</td>\n",
       "      <td>97</td>\n",
       "      <td>0.576923</td>\n",
       "    </tr>\n",
       "    <tr>\n",
       "      <th>321353</th>\n",
       "      <td>0.428565</td>\n",
       "      <td>0.333330</td>\n",
       "      <td>0.199996</td>\n",
       "      <td>0.090908</td>\n",
       "      <td>0.307690</td>\n",
       "      <td>0.159999</td>\n",
       "      <td>0.0</td>\n",
       "      <td>0.0</td>\n",
       "      <td>12.0</td>\n",
       "      <td>19.0</td>\n",
       "      <td>58</td>\n",
       "      <td>49</td>\n",
       "      <td>38</td>\n",
       "      <td>52</td>\n",
       "      <td>0.380952</td>\n",
       "    </tr>\n",
       "    <tr>\n",
       "      <th>203440</th>\n",
       "      <td>0.571420</td>\n",
       "      <td>0.285712</td>\n",
       "      <td>0.000000</td>\n",
       "      <td>0.000000</td>\n",
       "      <td>0.363633</td>\n",
       "      <td>0.133333</td>\n",
       "      <td>0.0</td>\n",
       "      <td>0.0</td>\n",
       "      <td>19.0</td>\n",
       "      <td>20.5</td>\n",
       "      <td>59</td>\n",
       "      <td>37</td>\n",
       "      <td>36</td>\n",
       "      <td>68</td>\n",
       "      <td>0.500000</td>\n",
       "    </tr>\n",
       "  </tbody>\n",
       "</table>\n",
       "</div>"
      ],
      "text/plain": [
       "         cwc_min   cwc_max   csc_min   csc_max   ctc_min   ctc_max  \\\n",
       "227100  0.000000  0.000000  0.000000  0.000000  0.000000  0.000000   \n",
       "74788   0.749981  0.749981  0.999975  0.999975  0.874989  0.874989   \n",
       "318288  0.857131  0.857131  0.999990  0.999990  0.941171  0.941171   \n",
       "321353  0.428565  0.333330  0.199996  0.090908  0.307690  0.159999   \n",
       "203440  0.571420  0.285712  0.000000  0.000000  0.363633  0.133333   \n",
       "\n",
       "        last_word_eq  first_word_eq  abs_len_diff  mean_len  token_set_ratio  \\\n",
       "227100           0.0            0.0           2.0      10.0               38   \n",
       "74788            0.0            1.0           0.0       8.0               90   \n",
       "318288           1.0            1.0           0.0      17.0               98   \n",
       "321353           0.0            0.0          12.0      19.0               58   \n",
       "203440           0.0            0.0          19.0      20.5               59   \n",
       "\n",
       "        token_sort_ratio  fuzz_ratio  fuzz_partial_ratio  longest_substr_ratio  \n",
       "227100                38          33                  37              0.036364  \n",
       "74788                 79          85                  86              0.800000  \n",
       "318288                94          98                  97              0.576923  \n",
       "321353                49          38                  52              0.380952  \n",
       "203440                37          36                  68              0.500000  "
      ]
     },
     "execution_count": 22,
     "metadata": {},
     "output_type": "execute_result"
    }
   ],
   "source": [
    "advanced_feat_train.head()"
   ]
  },
  {
   "cell_type": "markdown",
   "metadata": {},
   "source": [
    "## FINAL FEATURE MATRIX FOR THE TFIDF VECTORS"
   ]
  },
  {
   "cell_type": "code",
   "execution_count": 23,
   "metadata": {},
   "outputs": [],
   "source": [
    "from scipy.sparse import hstack\n",
    "\n",
    "tfidf_train = hstack((basic_feat_train, advanced_feat_train, tr_matq1, tr_matq2))\n",
    "tfidf_val = hstack((basic_feat_val, advanced_feat_val, val_matq1, val_matq2))\n",
    "tfidf_test = hstack((basic_feat_test, advanced_feat_test, te_matq1, te_matq2))"
   ]
  },
  {
   "cell_type": "code",
   "execution_count": 24,
   "metadata": {},
   "outputs": [
    {
     "data": {
      "text/plain": [
       "(198102, 19028)"
      ]
     },
     "execution_count": 24,
     "metadata": {},
     "output_type": "execute_result"
    }
   ],
   "source": [
    "tfidf_train.shape"
   ]
  },
  {
   "cell_type": "markdown",
   "metadata": {},
   "source": [
    "## FUNCTION FOR PLOTTING CONFUSION MATRIX"
   ]
  },
  {
   "cell_type": "code",
   "execution_count": 25,
   "metadata": {},
   "outputs": [],
   "source": [
    "def plot_confusion_matrix(test_y, predict_y):\n",
    "    C = confusion_matrix(test_y, predict_y)\n",
    "    # C = 9,9 matrix, each cell (i,j) represents number of points of class i are predicted class j\n",
    "    \n",
    "    A =(((C.T)/(C.sum(axis=1))).T)\n",
    "    #divid each element of the confusion matrix with the sum of elements in that column\n",
    "    \n",
    "    # C = [[1, 2],\n",
    "    #     [3, 4]]\n",
    "    # C.T = [[1, 3],\n",
    "    #        [2, 4]]\n",
    "    # C.sum(axis = 1)  axis=0 corresonds to columns and axis=1 corresponds to rows in two diamensional array\n",
    "    # C.sum(axix =1) = [[3, 7]]\n",
    "    # ((C.T)/(C.sum(axis=1))) = [[1/3, 3/7]\n",
    "    #                           [2/3, 4/7]]\n",
    "\n",
    "    # ((C.T)/(C.sum(axis=1))).T = [[1/3, 2/3]\n",
    "    #                           [3/7, 4/7]]\n",
    "    # sum of row elements = 1\n",
    "    \n",
    "    B =(C/C.sum(axis=0))\n",
    "    #divid each element of the confusion matrix with the sum of elements in that row\n",
    "    # C = [[1, 2],\n",
    "    #     [3, 4]]\n",
    "    # C.sum(axis = 0)  axis=0 corresonds to columns and axis=1 corresponds to rows in two diamensional array\n",
    "    # C.sum(axix =0) = [[4, 6]]\n",
    "    # (C/C.sum(axis=0)) = [[1/4, 2/6],\n",
    "    #                      [3/4, 4/6]] \n",
    "    plt.figure(figsize=(20,4))\n",
    "    \n",
    "    labels = [1,2]\n",
    "    # representing A in heatmap format\n",
    "    cmap=sns.light_palette(\"blue\")\n",
    "    plt.subplot(1, 3, 1)\n",
    "    sns.heatmap(C, annot=True, cmap=cmap, fmt=\".3f\", xticklabels=labels, yticklabels=labels)\n",
    "    plt.xlabel('Predicted Class')\n",
    "    plt.ylabel('Original Class')\n",
    "    plt.title(\"Confusion matrix\")\n",
    "    \n",
    "    plt.subplot(1, 3, 2)\n",
    "    sns.heatmap(B, annot=True, cmap=cmap, fmt=\".3f\", xticklabels=labels, yticklabels=labels)\n",
    "    plt.xlabel('Predicted Class')\n",
    "    plt.ylabel('Original Class')\n",
    "    plt.title(\"Precision matrix\")\n",
    "    \n",
    "    plt.subplot(1, 3, 3)\n",
    "    # representing B in heatmap format\n",
    "    sns.heatmap(A, annot=True, cmap=cmap, fmt=\".3f\", xticklabels=labels, yticklabels=labels)\n",
    "    plt.xlabel('Predicted Class')\n",
    "    plt.ylabel('Original Class')\n",
    "    plt.title(\"Recall matrix\")\n",
    "    \n",
    "    plt.show()"
   ]
  },
  {
   "cell_type": "markdown",
   "metadata": {},
   "source": [
    "## LOGISTIC REGRESSION"
   ]
  },
  {
   "cell_type": "markdown",
   "metadata": {},
   "source": [
    "#### SKLEARN'S LINEAR_MODEL LOGISTIC REGRESSION"
   ]
  },
  {
   "cell_type": "code",
   "execution_count": 26,
   "metadata": {},
   "outputs": [
    {
     "name": "stdout",
     "output_type": "stream",
     "text": [
      "For values of alpha =  1e-05 The validation log loss is: 0.47245963659268053\n",
      "For values of alpha =  0.0001 The validation log loss is: 0.4557228552139547\n",
      "For values of alpha =  0.001 The validation log loss is: 0.4536745286081456\n",
      "For values of alpha =  0.01 The validation log loss is: 0.45312481125405485\n",
      "For values of alpha =  0.1 The validation log loss is: 0.4545918949329237\n",
      "For values of alpha =  1 The validation log loss is: 0.4545590119580847\n",
      "For values of alpha =  10 The validation log loss is: 0.45301761347890657\n"
     ]
    },
    {
     "data": {
      "image/png": "[encoded data removed]",
      "text/plain": [
       "<Figure size 432x288 with 1 Axes>"
      ]
     },
     "metadata": {
      "needs_background": "light"
     },
     "output_type": "display_data"
    },
    {
     "name": "stdout",
     "output_type": "stream",
     "text": [
      "The best C for the Logistic Regression model is : 10\n",
      "For values of best C =  10 The train log loss is: 0.4558369411706949\n",
      "For values of best C =  10 The test log loss is: 0.4548926827693305\n",
      "Total number of data points : 121287\n"
     ]
    },
    {
     "data": {
      "image/png": "[encoded data removed]",
      "text/plain": [
       "<Figure size 1440x288 with 6 Axes>"
      ]
     },
     "metadata": {
      "needs_background": "light"
     },
     "output_type": "display_data"
    }
   ],
   "source": [
    "C = [10 ** x for x in range(-5, 2)] # hyperparam for SGD classifier.\n",
    "\n",
    "# read more about SGDClassifier() at http://scikit-learn.org/stable/modules/generated/sklearn.linear_model.SGDClassifier.html\n",
    "# ------------------------------\n",
    "# default parameters\n",
    "# SGDClassifier(loss=’hinge’, penalty=’l2’, alpha=0.0001, l1_ratio=0.15, fit_intercept=True, max_iter=None, tol=None, \n",
    "# shuffle=True, verbose=0, epsilon=0.1, n_jobs=1, random_state=None, learning_rate=’optimal’, eta0=0.0, power_t=0.5, \n",
    "# class_weight=None, warm_start=False, average=False, n_iter=None)\n",
    "\n",
    "# some of methods\n",
    "# fit(X, y[, coef_init, intercept_init, …])\tFit linear model with Stochastic Gradient Descent.\n",
    "# predict(X)\tPredict class labels for samples in X.\n",
    "\n",
    "#-------------------------------\n",
    "# video link: \n",
    "#------------------------------\n",
    "\n",
    "\n",
    "log_error_array=[]\n",
    "for i in C:\n",
    "    clf = LogisticRegression(C=i, random_state=42)\n",
    "    clf.fit(tfidf_train, Y_tr)\n",
    "    sig_clf = CalibratedClassifierCV(clf, method=\"sigmoid\")\n",
    "    sig_clf.fit(tfidf_train, Y_tr)\n",
    "    predict_y = sig_clf.predict_proba(tfidf_val)\n",
    "    log_error_array.append(log_loss(Y_CV, predict_y, labels=clf.classes_, eps=1e-15))\n",
    "    print('For values of alpha = ', i, \"The validation log loss is:\",log_loss(Y_CV, predict_y, labels=clf.classes_, eps=1e-15))\n",
    "\n",
    "fig, ax = plt.subplots()\n",
    "ax.plot(C, log_error_array,c='g')\n",
    "for i, txt in enumerate(np.round(log_error_array,3)):\n",
    "    ax.annotate((C[i],np.round(txt,3)), (C[i],log_error_array[i]))\n",
    "plt.grid()\n",
    "plt.title(\"Cross Validation Error for each C\")\n",
    "plt.xlabel(\"C's\")\n",
    "plt.ylabel(\"Error measure\")\n",
    "plt.show()\n",
    "\n",
    "\n",
    "best_C = np.argmin(log_error_array)\n",
    "print(\"The best C for the Logistic Regression model is : {}\".format(C[best_C]))\n",
    "clf = LogisticRegression(C=C[best_C], random_state=42)\n",
    "clf.fit(tfidf_train, Y_tr)\n",
    "sig_clf = CalibratedClassifierCV(clf, method=\"sigmoid\")\n",
    "sig_clf.fit(tfidf_train, Y_tr)\n",
    "\n",
    "predict_y = sig_clf.predict_proba(tfidf_train)\n",
    "print('For values of best C = ', C[best_C], \"The train log loss is:\",log_loss(Y_tr, predict_y, labels=clf.classes_, eps=1e-15))\n",
    "predict_y = sig_clf.predict_proba(tfidf_test)\n",
    "print('For values of best C = ', C[best_C], \"The test log loss is:\",log_loss(Y_test, predict_y, labels=clf.classes_, eps=1e-15))\n",
    "predicted_y =np.argmax(predict_y,axis=1)\n",
    "print(\"Total number of data points :\", len(predicted_y))\n",
    "plot_confusion_matrix(Y_test, predicted_y)"
   ]
  },
  {
   "cell_type": "markdown",
   "metadata": {},
   "source": [
    "#### SKLEARN LINEAR_MODEL'S SGDCLASSIFIER"
   ]
  },
  {
   "cell_type": "code",
   "execution_count": 28,
   "metadata": {},
   "outputs": [
    {
     "name": "stdout",
     "output_type": "stream",
     "text": [
      "For values of alpha =  1e-05 The validation log loss is: 0.3937319240671276\n",
      "For values of alpha =  0.0001 The validation log loss is: 0.4045784321033562\n",
      "For values of alpha =  0.001 The validation log loss is: 0.42527186577959514\n",
      "For values of alpha =  0.01 The validation log loss is: 0.4505981015304191\n",
      "For values of alpha =  0.1 The validation log loss is: 0.4584851244954659\n",
      "For values of alpha =  1 The validation log loss is: 0.4934936384380092\n",
      "For values of alpha =  10 The validation log loss is: 0.5440310872608639\n"
     ]
    },
    {
     "data": {
      "image/png": "[encoded data removed]",
      "text/plain": [
       "<Figure size 432x288 with 1 Axes>"
      ]
     },
     "metadata": {
      "needs_background": "light"
     },
     "output_type": "display_data"
    },
    {
     "name": "stdout",
     "output_type": "stream",
     "text": [
      "The best alpha for the SGDClassifier with log loss is : 1e-05\n",
      "For values of best alpha =  1e-05 The train log loss is: 0.38933340897393476\n",
      "For values of best alpha =  1e-05 The test log loss is: 0.394994615383781\n",
      "Total number of data points : 121287\n"
     ]
    },
    {
     "data": {
      "image/png": "[encoded data removed]",
      "text/plain": [
       "<Figure size 1440x288 with 6 Axes>"
      ]
     },
     "metadata": {
      "needs_background": "light"
     },
     "output_type": "display_data"
    }
   ],
   "source": [
    "alpha = [10 ** x for x in range(-5, 2)] # hyperparam for SGD classifier.\n",
    "\n",
    "# read more about SGDClassifier() at http://scikit-learn.org/stable/modules/generated/sklearn.linear_model.SGDClassifier.html\n",
    "# ------------------------------\n",
    "# default parameters\n",
    "# SGDClassifier(loss=’hinge’, penalty=’l2’, alpha=0.0001, l1_ratio=0.15, fit_intercept=True, max_iter=None, tol=None, \n",
    "# shuffle=True, verbose=0, epsilon=0.1, n_jobs=1, random_state=None, learning_rate=’optimal’, eta0=0.0, power_t=0.5, \n",
    "# class_weight=None, warm_start=False, average=False, n_iter=None)\n",
    "\n",
    "# some of methods\n",
    "# fit(X, y[, coef_init, intercept_init, …])\tFit linear model with Stochastic Gradient Descent.\n",
    "# predict(X)\tPredict class labels for samples in X.\n",
    "\n",
    "#-------------------------------\n",
    "# video link: \n",
    "#------------------------------\n",
    "\n",
    "\n",
    "log_error_array=[]\n",
    "for i in alpha:\n",
    "    clf = SGDClassifier(alpha=i, penalty = 'L2', loss = 'log', random_state=42)\n",
    "    clf.fit(tfidf_train, Y_tr)\n",
    "    sig_clf = CalibratedClassifierCV(clf, method=\"sigmoid\")\n",
    "    sig_clf.fit(tfidf_train, Y_tr)\n",
    "    predict_y = sig_clf.predict_proba(tfidf_val)\n",
    "    log_error_array.append(log_loss(Y_CV, predict_y, labels=clf.classes_, eps=1e-15))\n",
    "    print('For values of alpha = ', i, \"The validation log loss is:\",log_loss(Y_CV, predict_y, labels=clf.classes_, eps=1e-15))\n",
    "\n",
    "fig, ax = plt.subplots()\n",
    "ax.plot(alpha, log_error_array,c='g')\n",
    "for i, txt in enumerate(np.round(log_error_array,3)):\n",
    "    ax.annotate((alpha[i],np.round(txt,3)), (alpha[i],log_error_array[i]))\n",
    "plt.grid()\n",
    "plt.title(\"Cross Validation Error for each alpha\")\n",
    "plt.xlabel(\"alpha's\")\n",
    "plt.ylabel(\"Error measure\")\n",
    "plt.show()\n",
    "\n",
    "\n",
    "best_alpha = np.argmin(log_error_array)\n",
    "print(\"The best alpha for the SGDClassifier with log loss is : {}\".format(alpha[best_alpha]))\n",
    "clf = SGDClassifier(alpha=alpha[best_alpha], penalty = 'L2', loss = 'log', random_state=42)\n",
    "clf.fit(tfidf_train, Y_tr)\n",
    "sig_clf = CalibratedClassifierCV(clf, method=\"sigmoid\")\n",
    "sig_clf.fit(tfidf_train, Y_tr)\n",
    "\n",
    "predict_y = sig_clf.predict_proba(tfidf_train)\n",
    "print('For values of best alpha = ', alpha[best_alpha], \"The train log loss is:\",log_loss(Y_tr, predict_y, labels=clf.classes_, eps=1e-15))\n",
    "predict_y = sig_clf.predict_proba(tfidf_test)\n",
    "print('For values of best alpha = ', alpha[best_alpha], \"The test log loss is:\",log_loss(Y_test, predict_y, labels=clf.classes_, eps=1e-15))\n",
    "predicted_y =np.argmax(predict_y,axis=1)\n",
    "print(\"Total number of data points :\", len(predicted_y))\n",
    "plot_confusion_matrix(Y_test, predicted_y)"
   ]
  },
  {
   "cell_type": "markdown",
   "metadata": {},
   "source": [
    "## LINEAR SVM"
   ]
  },
  {
   "cell_type": "markdown",
   "metadata": {},
   "source": [
    "#### SKLEARN LINEAR MODEL SGDCLASSIFIER"
   ]
  },
  {
   "cell_type": "code",
   "execution_count": 26,
   "metadata": {},
   "outputs": [
    {
     "name": "stdout",
     "output_type": "stream",
     "text": [
      "For values of alpha =  1e-05 The validation log loss is: 0.38266938536047573\n",
      "For values of alpha =  0.0001 The validation log loss is: 0.3992953210902881\n",
      "For values of alpha =  0.001 The validation log loss is: 0.41630580260666417\n",
      "For values of alpha =  0.01 The validation log loss is: 0.44581120099525584\n",
      "For values of alpha =  0.1 The validation log loss is: 0.46012528009050946\n",
      "For values of alpha =  1 The validation log loss is: 0.4828513419761687\n",
      "For values of alpha =  10 The validation log loss is: 0.5435139360831228\n"
     ]
    },
    {
     "data": {
      "image/png": "[encoded data removed]",
      "text/plain": [
       "<Figure size 432x288 with 1 Axes>"
      ]
     },
     "metadata": {
      "needs_background": "light"
     },
     "output_type": "display_data"
    },
    {
     "name": "stdout",
     "output_type": "stream",
     "text": [
      "The best alpha for the SGDClassifier with hinge loss is : 1e-05\n",
      "For values of best alpha =  1e-05 The train log loss is: 0.37745507134333484\n",
      "For values of best alpha =  1e-05 The test log loss is: 0.3837582893898487\n",
      "Total number of data points : 121287\n"
     ]
    },
    {
     "data": {
      "image/png": "[encoded data removed]",
      "text/plain": [
       "<Figure size 1440x288 with 6 Axes>"
      ]
     },
     "metadata": {
      "needs_background": "light"
     },
     "output_type": "display_data"
    }
   ],
   "source": [
    "alpha = [10 ** x for x in range(-5, 2)] # hyperparam for SGD classifier.\n",
    "\n",
    "# read more about SGDClassifier() at http://scikit-learn.org/stable/modules/generated/sklearn.linear_model.SGDClassifier.html\n",
    "# ------------------------------\n",
    "# default parameters\n",
    "# SGDClassifier(loss=’hinge’, penalty=’l2’, alpha=0.0001, l1_ratio=0.15, fit_intercept=True, max_iter=None, tol=None, \n",
    "# shuffle=True, verbose=0, epsilon=0.1, n_jobs=1, random_state=None, learning_rate=’optimal’, eta0=0.0, power_t=0.5, \n",
    "# class_weight=None, warm_start=False, average=False, n_iter=None)\n",
    "\n",
    "# some of methods\n",
    "# fit(X, y[, coef_init, intercept_init, …])\tFit linear model with Stochastic Gradient Descent.\n",
    "# predict(X)\tPredict class labels for samples in X.\n",
    "\n",
    "#-------------------------------\n",
    "# video link: \n",
    "#------------------------------\n",
    "\n",
    "\n",
    "log_error_array=[]\n",
    "for i in alpha:\n",
    "    clf = SGDClassifier(alpha=i, penalty = 'L2', loss = 'hinge', random_state=42)\n",
    "    clf.fit(tfidf_train, Y_tr)\n",
    "    sig_clf = CalibratedClassifierCV(clf, method=\"sigmoid\")\n",
    "    sig_clf.fit(tfidf_train, Y_tr)\n",
    "    predict_y = sig_clf.predict_proba(tfidf_val)\n",
    "    log_error_array.append(log_loss(Y_CV, predict_y, labels=clf.classes_, eps=1e-15))\n",
    "    print('For values of alpha = ', i, \"The validation log loss is:\",log_loss(Y_CV, predict_y, labels=clf.classes_, eps=1e-15))\n",
    "\n",
    "fig, ax = plt.subplots()\n",
    "ax.plot(alpha, log_error_array,c='g')\n",
    "for i, txt in enumerate(np.round(log_error_array,3)):\n",
    "    ax.annotate((alpha[i],np.round(txt,3)), (alpha[i],log_error_array[i]))\n",
    "plt.grid()\n",
    "plt.title(\"Cross Validation Error for each alpha\")\n",
    "plt.xlabel(\"alpha's\")\n",
    "plt.ylabel(\"Error measure\")\n",
    "plt.show()\n",
    "\n",
    "\n",
    "best_alpha = np.argmin(log_error_array)\n",
    "print(\"The best alpha for the SGDClassifier with hinge loss is : {}\".format(alpha[best_alpha]))\n",
    "clf = SGDClassifier(alpha=alpha[best_alpha], penalty = 'L2', loss = 'hinge', random_state=42)\n",
    "clf.fit(tfidf_train, Y_tr)\n",
    "sig_clf = CalibratedClassifierCV(clf, method=\"sigmoid\")\n",
    "sig_clf.fit(tfidf_train, Y_tr)\n",
    "\n",
    "predict_y = sig_clf.predict_proba(tfidf_train)\n",
    "print('For values of best alpha = ', alpha[best_alpha], \"The train log loss is:\",log_loss(Y_tr, predict_y, labels=clf.classes_, eps=1e-15))\n",
    "predict_y = sig_clf.predict_proba(tfidf_test)\n",
    "print('For values of best alpha = ', alpha[best_alpha], \"The test log loss is:\",log_loss(Y_test, predict_y, labels=clf.classes_, eps=1e-15))\n",
    "predicted_y =np.argmax(predict_y,axis=1)\n",
    "print(\"Total number of data points :\", len(predicted_y))\n",
    "plot_confusion_matrix(Y_test, predicted_y)"
   ]
  },
  {
   "cell_type": "markdown",
   "metadata": {},
   "source": [
    "## XGBOOST"
   ]
  },
  {
   "cell_type": "markdown",
   "metadata": {},
   "source": [
    "#### IMPORTING THE FINAL FEATURES"
   ]
  },
  {
   "cell_type": "code",
   "execution_count": 26,
   "metadata": {},
   "outputs": [],
   "source": [
    "if os.path.isfile(\"final_features.csv\"):\n",
    "    fin_features_train = pd.read_csv(\"final_features.csv\", nrows=100001)\n",
    "else:\n",
    "    print(\"download final_features_train.csv from drive or run previous notebook\")"
   ]
  },
  {
   "cell_type": "markdown",
   "metadata": {},
   "source": [
    "#### DISTRIBUTION OF TARGET CLASS"
   ]
  },
  {
   "cell_type": "code",
   "execution_count": 27,
   "metadata": {},
   "outputs": [
    {
     "data": {
      "text/html": [
       "<div>\n",
       "<style scoped>\n",
       "    .dataframe tbody tr th:only-of-type {\n",
       "        vertical-align: middle;\n",
       "    }\n",
       "\n",
       "    .dataframe tbody tr th {\n",
       "        vertical-align: top;\n",
       "    }\n",
       "\n",
       "    .dataframe thead th {\n",
       "        text-align: right;\n",
       "    }\n",
       "</style>\n",
       "<table border=\"1\" class=\"dataframe\">\n",
       "  <thead>\n",
       "    <tr style=\"text-align: right;\">\n",
       "      <th></th>\n",
       "      <th>is_duplicate</th>\n",
       "      <th>no._of_question_pairs</th>\n",
       "    </tr>\n",
       "  </thead>\n",
       "  <tbody>\n",
       "    <tr>\n",
       "      <th>0</th>\n",
       "      <td>0</td>\n",
       "      <td>62747</td>\n",
       "    </tr>\n",
       "    <tr>\n",
       "      <th>1</th>\n",
       "      <td>1</td>\n",
       "      <td>37254</td>\n",
       "    </tr>\n",
       "  </tbody>\n",
       "</table>\n",
       "</div>"
      ],
      "text/plain": [
       "   is_duplicate  no._of_question_pairs\n",
       "0             0                  62747\n",
       "1             1                  37254"
      ]
     },
     "execution_count": 27,
     "metadata": {},
     "output_type": "execute_result"
    }
   ],
   "source": [
    "tar_dist = fin_features_train.is_duplicate.value_counts().reset_index()\n",
    "\n",
    "tar_dist.columns = [\"is_duplicate\",\"no._of_question_pairs\"]\n",
    "\n",
    "tar_dist"
   ]
  },
  {
   "cell_type": "code",
   "execution_count": 30,
   "metadata": {},
   "outputs": [
    {
     "data": {
      "text/html": [
       "<div>\n",
       "<style scoped>\n",
       "    .dataframe tbody tr th:only-of-type {\n",
       "        vertical-align: middle;\n",
       "    }\n",
       "\n",
       "    .dataframe tbody tr th {\n",
       "        vertical-align: top;\n",
       "    }\n",
       "\n",
       "    .dataframe thead th {\n",
       "        text-align: right;\n",
       "    }\n",
       "</style>\n",
       "<table border=\"1\" class=\"dataframe\">\n",
       "  <thead>\n",
       "    <tr style=\"text-align: right;\">\n",
       "      <th></th>\n",
       "      <th>is_duplicate</th>\n",
       "      <th>no._of_question_pairs</th>\n",
       "      <th>percentage</th>\n",
       "    </tr>\n",
       "  </thead>\n",
       "  <tbody>\n",
       "    <tr>\n",
       "      <th>0</th>\n",
       "      <td>0</td>\n",
       "      <td>62747</td>\n",
       "      <td>0.627464</td>\n",
       "    </tr>\n",
       "    <tr>\n",
       "      <th>1</th>\n",
       "      <td>1</td>\n",
       "      <td>37254</td>\n",
       "      <td>0.372536</td>\n",
       "    </tr>\n",
       "  </tbody>\n",
       "</table>\n",
       "</div>"
      ],
      "text/plain": [
       "   is_duplicate  no._of_question_pairs  percentage\n",
       "0             0                  62747    0.627464\n",
       "1             1                  37254    0.372536"
      ]
     },
     "execution_count": 30,
     "metadata": {},
     "output_type": "execute_result"
    }
   ],
   "source": [
    "tar_dist[\"percentage\"] = tar_dist[\"no._of_question_pairs\"]/np.sum(tar_dist[\"no._of_question_pairs\"], axis=0)\n",
    "\n",
    "tar_dist"
   ]
  },
  {
   "cell_type": "markdown",
   "metadata": {},
   "source": [
    "### TRAIN-TEST SPLIT (70:30)"
   ]
  },
  {
   "cell_type": "code",
   "execution_count": 43,
   "metadata": {},
   "outputs": [],
   "source": [
    "X = fin_features_train.drop([\"Unnamed: 0\",\"id\",\"is_duplicate\"], axis=1)\n",
    "Y = fin_features_train.loc[:,\"is_duplicate\"]\n",
    "\n",
    "X_train, X_test, Y_train, Y_test = train_test_split(X,Y, test_size = 0.30, stratify = Y, random_state = 42)"
   ]
  },
  {
   "cell_type": "markdown",
   "metadata": {},
   "source": [
    "### HYPERPARAMETER TUNING"
   ]
  },
  {
   "cell_type": "code",
   "execution_count": 46,
   "metadata": {},
   "outputs": [
    {
     "name": "stdout",
     "output_type": "stream",
     "text": [
      "The best set of parameters for the GBDT Classifier on the BOW featurized data are : {'n_estimators': 100, 'learning_rate': 0.2}\n"
     ]
    },
    {
     "data": {
      "image/png": "[encoded data removed]",
      "text/plain": [
       "<Figure size 432x288 with 2 Axes>"
      ]
     },
     "metadata": {
      "needs_background": "light"
     },
     "output_type": "display_data"
    }
   ],
   "source": [
    "gb_clf = xgb.XGBClassifier()\n",
    "\n",
    "params = {'n_estimators':[5,10,50,75,100], 'learning_rate':[0.0001,0.001,0.01,0.1,0.2,0.3]}\n",
    "\n",
    "clf = RandomizedSearchCV(gb_clf, param_distributions = params, scoring = 'neg_log_loss', cv=3, return_train_score = True, random_state = 42)\n",
    "clf.fit(X_train, Y_train)\n",
    "\n",
    "results = pd.DataFrame.from_dict(clf.cv_results_)\n",
    "results.sort_values(by = [\"param_n_estimators\",\"param_learning_rate\"], inplace=True)\n",
    "\n",
    "\n",
    "train_log_loss = results[\"mean_train_score\"]\n",
    "train_std = results[\"std_train_score\"]\n",
    "cv_log_loss = results[\"mean_test_score\"]\n",
    "cv_std = results[\"std_test_score\"]\n",
    "\n",
    "score_df = pd.pivot_table(data = results, index = \"param_n_estimators\", columns = \"param_learning_rate\", values = \"mean_test_score\")\n",
    "\n",
    "# Removing the nan values from the dataset to avoid any errors during plotting of the auc scores for various combinations\n",
    "score_df.fillna(0, inplace=True)\n",
    "\n",
    "sns.heatmap(score_df, annot = True)\n",
    "plt.title(\"Negative Log Loss for the combinations of n_estimators and learning rate for the BOW Vectorizer\")\n",
    "\n",
    "print(\"The best set of parameters for the GBDT Classifier on the BOW featurized data are : {}\".format(clf.best_params_))"
   ]
  },
  {
   "cell_type": "markdown",
   "metadata": {},
   "source": [
    "### BEST XGBOOST MODEL RESULTS"
   ]
  },
  {
   "cell_type": "code",
   "execution_count": 47,
   "metadata": {},
   "outputs": [
    {
     "name": "stdout",
     "output_type": "stream",
     "text": [
      "The training log loss for the best XGBoost Model is : 0.21578534685718756\n",
      "The test log loss for the best XGBoost Model is : 0.3413255866304889\n",
      "Total number of data points : 30001\n"
     ]
    },
    {
     "data": {
      "image/png": "[encoded data removed]",
      "text/plain": [
       "<Figure size 1440x288 with 6 Axes>"
      ]
     },
     "metadata": {
      "needs_background": "light"
     },
     "output_type": "display_data"
    }
   ],
   "source": [
    "best_n_estimators = 100\n",
    "best_learning_rate = 0.2\n",
    "\n",
    "xgb_clf = xgb.XGBClassifier(n_estimators = best_n_estimators, learning_rate = best_learning_rate)\n",
    "xgb_clf.fit(X_train, Y_train)\n",
    "\n",
    "sig_clf = CalibratedClassifierCV(xgb_clf, method=\"sigmoid\")\n",
    "sig_clf.fit(X_train, Y_train)\n",
    "\n",
    "predicted_y = sig_clf.predict_proba(X_train)\n",
    "print(\"The training log loss for the best XGBoost Model is : {}\".format(log_loss(Y_train, predicted_y, labels=xgb_clf.classes_, eps=1e-15)))\n",
    "predicted_y = sig_clf.predict_proba(X_test)\n",
    "print(\"The test log loss for the best XGBoost Model is : {}\".format(log_loss(Y_test, predicted_y, labels=xgb_clf.classes_, eps=1e-15)))\n",
    "\n",
    "prediction =np.argmax(predicted_y,axis=1)\n",
    "print(\"Total number of data points :\", len(prediction))\n",
    "plot_confusion_matrix(Y_test, prediction)"
   ]
  },
  {
   "cell_type": "code",
   "execution_count": null,
   "metadata": {},
   "outputs": [],
   "source": []
  }
 ],
 "metadata": {
  "kernelspec": {
   "display_name": "Python 3",
   "language": "python",
   "name": "python3"
  },
  "language_info": {
   "codemirror_mode": {
    "name": "ipython",
    "version": 3
   },
   "file_extension": ".py",
   "mimetype": "text/x-python",
   "name": "python",
   "nbconvert_exporter": "python",
   "pygments_lexer": "ipython3",
   "version": "3.7.6"
  }
 },
 "nbformat": 4,
 "nbformat_minor": 4
}
